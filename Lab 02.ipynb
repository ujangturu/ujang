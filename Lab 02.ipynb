{
 "cells": [
  {
   "cell_type": "code",
   "execution_count": 1,
   "metadata": {
    "id": "O0IwCH-VtbrE"
   },
   "outputs": [],
   "source": [
    "import tensorflow as tf\n",
    "\n",
    "import tensorflow.keras.utils as utils\n",
    "\n",
    "import tensorflow_datasets as tfds\n",
    "\n",
    "tfds.disable_progress_bar()\n",
    "\n",
    "import warnings; warnings.filterwarnings('ignore')\n",
    "\n",
    "import os, pathlib"
   ]
  },
  {
   "cell_type": "code",
   "execution_count": 2,
   "metadata": {
    "id": "8BGJr5n4ti2u"
   },
   "outputs": [],
   "source": [
    "cataset = \"cats_vs_dogs\"\n",
    "\n",
    "split = [\"train[:10%]\", \"train[80%:90%]\", \"train[90%:]\"]\n",
    "\n",
    "ontrue = True\n",
    "\n",
    "(train, test, validation) = tfds.load(cataset, split=split, as_supervised=ontrue)"
   ]
  },
  {
   "cell_type": "code",
   "execution_count": 3,
   "metadata": {
    "colab": {
     "base_uri": "https://localhost:8080/"
    },
    "id": "4GvWJz7vuAI-",
    "outputId": "9a540892-410a-4cc1-c422-7e148f3322da"
   },
   "outputs": [
    {
     "data": {
      "text/plain": [
       "(2326, 2326, 2326)"
      ]
     },
     "execution_count": 3,
     "metadata": {},
     "output_type": "execute_result"
    }
   ],
   "source": [
    "len(train), len(test), len(validation)"
   ]
  },
  {
   "cell_type": "markdown",
   "metadata": {
    "id": "hET98fphuBTc"
   },
   "source": [
    "Our Cat and Dog Picture in Total is 6.978. With 2.326 Picture in One Section"
   ]
  },
  {
   "cell_type": "code",
   "execution_count": 4,
   "metadata": {
    "id": "vhvFD_IiumzU"
   },
   "outputs": [],
   "source": [
    "input_shape = (160, 160)\n",
    "\n",
    "inlabel = lambda i, l : (tf.image.resize(i, input_shape) / 255.0, l)\n",
    "\n",
    "batch = 128\n",
    "\n",
    "train = train.map(inlabel).shuffle(len(train)).batch(batch).cache()\n",
    "\n",
    "test = test.map(inlabel).batch(batch)\n",
    "\n",
    "validation = validation.map(inlabel).batch(batch)"
   ]
  },
  {
   "cell_type": "code",
   "execution_count": null,
   "metadata": {
    "id": "c8XxSQ8xusvA"
   },
   "outputs": [],
   "source": [
    "from tensorflow.keras.applications import MobileNet\n",
    "\n",
    "import tensorflow.keras.layers as layers\n",
    "\n",
    "inputs = layers.Input((160, 160, 3))\n",
    "\n",
    "intnet = MobileNet(input_tensor=inputs, weights='imagenet', include_top=False)\n",
    "\n",
    "intnet.trainable = False"
   ]
  },
  {
   "cell_type": "code",
   "execution_count": 6,
   "metadata": {
    "id": "jDWGApBIuujI"
   },
   "outputs": [],
   "source": [
    "x = layers.GlobalAveragePooling2D()(intnet.output)\n",
    "\n",
    "output = layers.Dense(1, activation='sigmoid')(x)\n",
    "\n",
    "model = tf.keras.Model(inputs, output)"
   ]
  },
  {
   "cell_type": "code",
   "execution_count": 7,
   "metadata": {
    "colab": {
     "base_uri": "https://localhost:8080/"
    },
    "id": "YlSlJrUXuzkx",
    "outputId": "081d9401-43c9-458b-a7ff-cc027f8c0976"
   },
   "outputs": [
    {
     "data": {
      "text/plain": [
       "<KerasTensor shape=(None, 160, 160, 3), dtype=float32, sparse=None, name=keras_tensor>"
      ]
     },
     "execution_count": 7,
     "metadata": {},
     "output_type": "execute_result"
    }
   ],
   "source": [
    "model.input"
   ]
  },
  {
   "cell_type": "markdown",
   "metadata": {
    "id": "_JjQ5XnjwJBV"
   },
   "source": [
    "Our Model is Expecting the Image Input Shape is (160, 160, 3)"
   ]
  },
  {
   "cell_type": "code",
   "execution_count": 8,
   "metadata": {
    "colab": {
     "base_uri": "https://localhost:8080/"
    },
    "id": "76KME0-Qu1Ku",
    "outputId": "626be07f-1e2f-4b5b-a6eb-0554f8754ef7"
   },
   "outputs": [
    {
     "data": {
      "text/plain": [
       "<KerasTensor shape=(None, 1), dtype=float32, sparse=False, name=keras_tensor_87>"
      ]
     },
     "execution_count": 8,
     "metadata": {},
     "output_type": "execute_result"
    }
   ],
   "source": [
    "model.output"
   ]
  },
  {
   "cell_type": "code",
   "execution_count": null,
   "metadata": {
    "id": "cVa88f1DwBXL"
   },
   "outputs": [],
   "source": [
    "model.compile(optimizer=\"adam\", loss=\"binary_crossentropy\", metrics=[\"accuracy\"])\n",
    "\n",
    "history = model.fit(train, validation_data=validation, epochs=7)"
   ]
  },
  {
   "cell_type": "markdown",
   "metadata": {},
   "source": [
    "### Model Result"
   ]
  },
  {
   "cell_type": "code",
   "execution_count": 10,
   "metadata": {
    "colab": {
     "base_uri": "https://localhost:8080/"
    },
    "id": "Y61Q65fcw7Wm",
    "outputId": "76b0e030-ce74-4637-ffae-1a8062870bea"
   },
   "outputs": [
    {
     "data": {
      "text/plain": [
       "[0.07264330238103867, 0.975494384765625]"
      ]
     },
     "execution_count": 10,
     "metadata": {},
     "output_type": "execute_result"
    }
   ],
   "source": [
    "model.evaluate(train, verbose=0)"
   ]
  },
  {
   "cell_type": "code",
   "execution_count": 11,
   "metadata": {
    "colab": {
     "base_uri": "https://localhost:8080/"
    },
    "id": "1wscH84jw5jR",
    "outputId": "64ae7a67-f187-4e1e-8d13-b9a6b58706b6"
   },
   "outputs": [
    {
     "data": {
      "text/plain": [
       "[0.10001406073570251, 0.9578675627708435]"
      ]
     },
     "execution_count": 11,
     "metadata": {},
     "output_type": "execute_result"
    }
   ],
   "source": [
    "model.evaluate(test, verbose=0)"
   ]
  },
  {
   "cell_type": "code",
   "execution_count": 12,
   "metadata": {
    "colab": {
     "base_uri": "https://localhost:8080/"
    },
    "id": "GAW8FOsLw9Eh",
    "outputId": "e53de1c6-d98e-46f8-be03-ed9288c0b50f"
   },
   "outputs": [
    {
     "data": {
      "text/plain": [
       "[0.08561015129089355, 0.970765233039856]"
      ]
     },
     "execution_count": 12,
     "metadata": {},
     "output_type": "execute_result"
    }
   ],
   "source": [
    "model.evaluate(validation, verbose=0)"
   ]
  },
  {
   "cell_type": "code",
   "execution_count": 13,
   "metadata": {
    "id": "7goKg74OzXxR"
   },
   "outputs": [],
   "source": [
    "import matplotlib.pyplot as plt\n",
    "\n",
    "plt.style.use(\"seaborn-v0_8-whitegrid\")\n",
    "\n",
    "class Helplot:\n",
    "  def __init__(self, history):\n",
    "    self.history = history\n",
    "    self.accuracy = history.history['accuracy']\n",
    "    self.val_accuracy = history.history['val_accuracy']\n",
    "    self.loop = [*range(1, len(self.accuracy) + 1)]\n",
    "    self.loss = history.history['loss']\n",
    "    self.val_loss = history.history['val_loss']\n",
    "\n",
    "  @property\n",
    "  def Relplot(self):\n",
    "    plt.plot(self.loop, self.accuracy, label='Train Accuracy')\n",
    "    plt.plot(self.loop, self.val_accuracy, label='Val Accuracy')\n",
    "    plt.title(\"Accuracy Result\")\n",
    "    plt.xlabel(\"Epochs\")\n",
    "    plt.ylabel(\"Accuracy\")\n",
    "    plt.xticks(self.loop)\n",
    "    plt.legend()\n",
    "\n",
    "  @property\n",
    "  def Falplot(self):\n",
    "    plt.plot(self.loop, self.loss, label='Train Loss')\n",
    "    plt.plot(self.loop, self.val_loss, label='Val Loss')\n",
    "    plt.title(\"Loss Result\")\n",
    "    plt.xlabel(\"Epochs\")\n",
    "    plt.ylabel(\"Loss\")\n",
    "    plt.xticks(self.loop)\n",
    "    plt.legend()\n",
    "\n",
    "plot = Helplot(history)"
   ]
  },
  {
   "cell_type": "code",
   "execution_count": 14,
   "metadata": {
    "colab": {
     "base_uri": "https://localhost:8080/",
     "height": 465
    },
    "id": "y00u4JB40vkj",
    "outputId": "8158f5b5-0550-4907-f33e-b7e525aa4d5f"
   },
   "outputs": [
    {
     "data": {
      "image/png": "[encoded data removed]",
      "text/plain": [
       "<Figure size 640x480 with 1 Axes>"
      ]
     },
     "metadata": {},
     "output_type": "display_data"
    }
   ],
   "source": [
    "plot.Relplot"
   ]
  },
  {
   "cell_type": "code",
   "execution_count": 15,
   "metadata": {
    "colab": {
     "base_uri": "https://localhost:8080/",
     "height": 465
    },
    "id": "df7Ny20A0wXT",
    "outputId": "e1e6db87-e903-44db-ed9b-12274089184b"
   },
   "outputs": [
    {
     "data": {
      "image/png": "[encoded data removed]",
      "text/plain": [
       "<Figure size 640x480 with 1 Axes>"
      ]
     },
     "metadata": {},
     "output_type": "display_data"
    }
   ],
   "source": [
    "plot.Falplot"
   ]
  },
  {
   "cell_type": "markdown",
   "metadata": {},
   "source": [
    "### TensorFlow Lite"
   ]
  },
  {
   "cell_type": "code",
   "execution_count": null,
   "metadata": {
    "id": "WmCUoStG4rwB"
   },
   "outputs": [],
   "source": [
    "ModelFolder = \"/content/Modelite\"\n",
    "\n",
    "model.export(ModelFolder)"
   ]
  },
  {
   "cell_type": "code",
   "execution_count": 17,
   "metadata": {
    "id": "iKuDHU9g4758"
   },
   "outputs": [],
   "source": [
    "tflite = tf.lite.TFLiteConverter\n",
    "\n",
    "tflite_model = tflite.from_saved_model(ModelFolder)\n",
    "\n",
    "tflite_model.optimizations = [tf.lite.Optimize.DEFAULT]"
   ]
  },
  {
   "cell_type": "code",
   "execution_count": 18,
   "metadata": {
    "colab": {
     "base_uri": "https://localhost:8080/"
    },
    "id": "8YVX5-hO5CeK",
    "outputId": "2f121787-2543-4b32-fce4-7c3dab15146d"
   },
   "outputs": [
    {
     "data": {
      "text/plain": [
       "(tf.float32, tf.float32)"
      ]
     },
     "execution_count": 18,
     "metadata": {},
     "output_type": "execute_result"
    }
   ],
   "source": [
    "tflite_model.inference_input_type, tflite_model.inference_output_type"
   ]
  },
  {
   "cell_type": "code",
   "execution_count": 19,
   "metadata": {
    "colab": {
     "base_uri": "https://localhost:8080/"
    },
    "id": "FUxiBmVO5FFu",
    "outputId": "8c57d420-ae41-4417-d984-4d8cb97aec80"
   },
   "outputs": [
    {
     "data": {
      "text/plain": [
       "3382312"
      ]
     },
     "execution_count": 19,
     "metadata": {},
     "output_type": "execute_result"
    }
   ],
   "source": [
    "tflite_model = tflite_model.convert()\n",
    "\n",
    "tflite_model_file = pathlib.Path(\"HartModel01.tflite\")\n",
    "\n",
    "tflite_model_file.write_bytes(tflite_model)"
   ]
  },
  {
   "cell_type": "code",
   "execution_count": 20,
   "metadata": {
    "colab": {
     "base_uri": "https://localhost:8080/"
    },
    "id": "BFKRVZN_5SM1",
    "outputId": "bd7779b7-0cc9-4677-990b-8c969e87f515"
   },
   "outputs": [
    {
     "data": {
      "text/plain": [
       "3.2256240844726562"
      ]
     },
     "execution_count": 20,
     "metadata": {},
     "output_type": "execute_result"
    }
   ],
   "source": [
    "os.path.getsize(\"/content/HartModel01.tflite\") / float(2**20)"
   ]
  },
  {
   "cell_type": "code",
   "execution_count": 21,
   "metadata": {
    "colab": {
     "base_uri": "https://localhost:8080/"
    },
    "id": "EyVwPKrw5dFq",
    "outputId": "fabbbbcc-c79d-4152-f716-c975ec07e30f"
   },
   "outputs": [
    {
     "data": {
      "text/plain": [
       "{'serving_default': {'inputs': ['keras_tensor'], 'outputs': ['output_0']}}"
      ]
     },
     "execution_count": 21,
     "metadata": {},
     "output_type": "execute_result"
    }
   ],
   "source": [
    "interpreter = tf.lite.Interpreter(model_path=\"/content/HartModel01.tflite\")\n",
    "\n",
    "interpreter.get_signature_list()"
   ]
  },
  {
   "cell_type": "code",
   "execution_count": 22,
   "metadata": {
    "colab": {
     "base_uri": "https://localhost:8080/"
    },
    "id": "3h--d37Q5owl",
    "outputId": "8cea6bce-59e9-497c-8f7a-0c1f80d866ff"
   },
   "outputs": [
    {
     "data": {
      "text/plain": [
       "<tensorflow.lite.python.interpreter.SignatureRunner at 0x7e031c140670>"
      ]
     },
     "execution_count": 22,
     "metadata": {},
     "output_type": "execute_result"
    }
   ],
   "source": [
    "lite_interpreter = interpreter.get_signature_runner('serving_default')\n",
    "\n",
    "lite_interpreter"
   ]
  },
  {
   "cell_type": "code",
   "execution_count": 23,
   "metadata": {
    "colab": {
     "base_uri": "https://localhost:8080/"
    },
    "id": "orBooHeF5tr-",
    "outputId": "3c2dd73e-c9fa-4d65-c922-c5e10db4c6db"
   },
   "outputs": [
    {
     "data": {
      "text/plain": [
       "TensorShape([128, 160, 160, 3])"
      ]
     },
     "execution_count": 23,
     "metadata": {},
     "output_type": "execute_result"
    }
   ],
   "source": [
    "test_images, test_labels = next(iter(test))\n",
    "\n",
    "test_images.shape"
   ]
  },
  {
   "cell_type": "code",
   "execution_count": 24,
   "metadata": {
    "colab": {
     "base_uri": "https://localhost:8080/"
    },
    "id": "VFCeowVJ50IR",
    "outputId": "e27c4400-d0cc-4b25-d88c-eb511b5c1919"
   },
   "outputs": [
    {
     "data": {
      "text/plain": [
       "128"
      ]
     },
     "execution_count": 24,
     "metadata": {},
     "output_type": "execute_result"
    }
   ],
   "source": [
    "len(test_images)"
   ]
  },
  {
   "cell_type": "code",
   "execution_count": 25,
   "metadata": {
    "colab": {
     "base_uri": "https://localhost:8080/"
    },
    "id": "Ixi2Z9IcA30x",
    "outputId": "d516fd2a-ec11-4b46-bc41-c6afdac71433"
   },
   "outputs": [
    {
     "data": {
      "text/plain": [
       "(128, 1)"
      ]
     },
     "execution_count": 25,
     "metadata": {},
     "output_type": "execute_result"
    }
   ],
   "source": [
    "tensorlite_test = lite_interpreter(keras_tensor=test_images)['output_0']\n",
    "\n",
    "tensorlite_test.shape"
   ]
  },
  {
   "cell_type": "code",
   "execution_count": 26,
   "metadata": {
    "colab": {
     "base_uri": "https://localhost:8080/"
    },
    "id": "2YeB-8_VA7Kh",
    "outputId": "ae2e9fc1-dc50-40c1-8c38-09f20bd2d56d"
   },
   "outputs": [
    {
     "data": {
      "text/plain": [
       "array([[0.99996877],\n",
       "       [0.00246281],\n",
       "       [0.99464184],\n",
       "       [0.99963593],\n",
       "       [0.98546207]], dtype=float32)"
      ]
     },
     "execution_count": 26,
     "metadata": {},
     "output_type": "execute_result"
    }
   ],
   "source": [
    "tensorlite_test[:5]"
   ]
  },
  {
   "cell_type": "markdown",
   "metadata": {},
   "source": [
    "### TensorFlow Serving"
   ]
  },
  {
   "cell_type": "code",
   "execution_count": 27,
   "metadata": {
    "id": "-XbYEG8NCA4q"
   },
   "outputs": [],
   "source": [
    "class Outlabel(tf.keras.layers.Layer):\n",
    "  def __init__(self):\n",
    "    super(Outlabel, self).__init__()\n",
    "    self.label = [\"Cat\", \"Dog\"]\n",
    "\n",
    "  def call(self, inputs):\n",
    "    tf.config.run_functions_eagerly(True)\n",
    "    logits = tf.cast(tf.round(inputs), tf.int32)\n",
    "    logits = tf.gather(self.label, logits)\n",
    "    return logits"
   ]
  },
  {
   "cell_type": "code",
   "execution_count": 28,
   "metadata": {
    "colab": {
     "base_uri": "https://localhost:8080/"
    },
    "id": "vOlw22WcCRP_",
    "outputId": "a1209040-cfde-4aa4-b0fd-364af4a9c92f"
   },
   "outputs": [
    {
     "data": {
      "text/plain": [
       "<KerasTensor shape=(None, 1), dtype=string, sparse=False, name=keras_tensor_89>"
      ]
     },
     "execution_count": 28,
     "metadata": {},
     "output_type": "execute_result"
    }
   ],
   "source": [
    "input_layer = model.input\n",
    "\n",
    "modular = model(input_layer)\n",
    "\n",
    "output_layer = Outlabel()(modular)\n",
    "\n",
    "modular_server = tf.keras.Model(input_layer, output_layer)\n",
    "\n",
    "modular_server.output"
   ]
  },
  {
   "cell_type": "code",
   "execution_count": 29,
   "metadata": {
    "colab": {
     "base_uri": "https://localhost:8080/"
    },
    "id": "hPOtskspFV6V",
    "outputId": "e50e2e8c-ba16-4519-cb53-dc08170486e6"
   },
   "outputs": [
    {
     "name": "stdout",
     "output_type": "stream",
     "text": [
      "\u001b[1m4/4\u001b[0m \u001b[32m━━━━━━━━━━━━━━━━━━━━\u001b[0m\u001b[37m\u001b[0m \u001b[1m1s\u001b[0m 84ms/step\n"
     ]
    },
    {
     "data": {
      "text/plain": [
       "array([[b'Dog'],\n",
       "       [b'Cat'],\n",
       "       [b'Dog'],\n",
       "       [b'Dog'],\n",
       "       [b'Dog']], dtype=object)"
      ]
     },
     "execution_count": 29,
     "metadata": {},
     "output_type": "execute_result"
    }
   ],
   "source": [
    "tester = modular_server.predict(test_images)\n",
    "\n",
    "tester[:5]"
   ]
  },
  {
   "cell_type": "code",
   "execution_count": null,
   "metadata": {
    "id": "7B8rIX0dHP7m"
   },
   "outputs": [],
   "source": [
    "ModelFolder = \"/content/ModelServer\"\n",
    "\n",
    "ModelSerial = \"1\"\n",
    "\n",
    "ModuleFolder = os.path.join(ModelFolder, ModelSerial)\n",
    "\n",
    "modular_server.export(ModuleFolder)"
   ]
  },
  {
   "cell_type": "code",
   "execution_count": null,
   "metadata": {
    "id": "gRSEMzvYHHBW"
   },
   "outputs": [],
   "source": [
    "!apt update\n",
    "\n",
    "!apt-get install tensorflow-model-server"
   ]
  },
  {
   "cell_type": "code",
   "execution_count": 32,
   "metadata": {
    "id": "8LIKRENkHj2R"
   },
   "outputs": [],
   "source": [
    "os.environ[\"ModelFolder\"] = ModelFolder"
   ]
  },
  {
   "cell_type": "code",
   "execution_count": 33,
   "metadata": {
    "id": "zOzSl7Z2Hm1o"
   },
   "outputs": [],
   "source": [
    "%%bash --bg\n",
    "nohup tensorflow_model_server \\\n",
    "  --rest_api_port=8501 \\\n",
    "  --model_name=inter_model \\\n",
    "  --model_base_path=\"${ModelFolder}\" > server.log 2>&1"
   ]
  },
  {
   "cell_type": "code",
   "execution_count": null,
   "metadata": {
    "id": "qV87tx0UHnk1"
   },
   "outputs": [],
   "source": [
    "!tail server.log"
   ]
  },
  {
   "cell_type": "code",
   "execution_count": 36,
   "metadata": {
    "id": "ZEeYnobIHt8D"
   },
   "outputs": [],
   "source": [
    "import json, requests\n",
    "\n",
    "test_img, test_label = next(iter(validation))\n",
    "\n",
    "test_img = test_img.numpy().tolist()\n",
    "\n",
    "url = \"http://127.0.0.1:8501/v1/models/inter_model:predict\""
   ]
  },
  {
   "cell_type": "code",
   "execution_count": 37,
   "metadata": {
    "id": "3A-6Et4GH4Yo"
   },
   "outputs": [],
   "source": [
    "image = json.dumps({\"signature_name\":\"serving_default\", \"instances\":test_img})\n",
    "\n",
    "content = {\"content-type\":\"application/json\"}\n",
    "\n",
    "response = requests.post(url, data=image, headers=content)"
   ]
  },
  {
   "cell_type": "code",
   "execution_count": 38,
   "metadata": {
    "colab": {
     "base_uri": "https://localhost:8080/"
    },
    "id": "cLrIDX6hH6DI",
    "outputId": "ee640241-1d17-4652-f9da-4ffd5229b6bd"
   },
   "outputs": [
    {
     "data": {
      "text/plain": [
       "dict_keys(['predictions'])"
      ]
     },
     "execution_count": 38,
     "metadata": {},
     "output_type": "execute_result"
    }
   ],
   "source": [
    "loader = json.loads(response.text)\n",
    "\n",
    "loader.keys()"
   ]
  },
  {
   "cell_type": "code",
   "execution_count": 39,
   "metadata": {
    "colab": {
     "base_uri": "https://localhost:8080/"
    },
    "id": "_fGDHLoLH9ZE",
    "outputId": "9b5f8772-3925-493d-d176-96a5e1711325"
   },
   "outputs": [
    {
     "data": {
      "text/plain": [
       "128"
      ]
     },
     "execution_count": 39,
     "metadata": {},
     "output_type": "execute_result"
    }
   ],
   "source": [
    "result = loader[\"predictions\"]\n",
    "\n",
    "len(result)"
   ]
  },
  {
   "cell_type": "code",
   "execution_count": 41,
   "metadata": {
    "colab": {
     "base_uri": "https://localhost:8080/"
    },
    "id": "Hq9WL3ISH_22",
    "outputId": "1e7d3c57-cfb3-4539-e86b-11b27b8b5255"
   },
   "outputs": [
    {
     "data": {
      "text/plain": [
       "[['Cat'], ['Dog'], ['Dog'], ['Cat'], ['Cat']]"
      ]
     },
     "execution_count": 41,
     "metadata": {},
     "output_type": "execute_result"
    }
   ],
   "source": [
    "result[:5]"
   ]
  }
 ],
 "metadata": {
  "accelerator": "GPU",
  "colab": {
   "gpuType": "T4",
   "provenance": []
  },
  "kernelspec": {
   "display_name": "Python 3",
   "name": "python3"
  },
  "language_info": {
   "name": "python"
  }
 },
 "nbformat": 4,
 "nbformat_minor": 0
}
